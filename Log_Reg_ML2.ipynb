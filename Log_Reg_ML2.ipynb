{
  "nbformat": 4,
  "nbformat_minor": 0,
  "metadata": {
    "colab": {
      "provenance": []
    },
    "kernelspec": {
      "name": "python3",
      "display_name": "Python 3"
    },
    "language_info": {
      "name": "python"
    }
  },
  "cells": [
    {
      "cell_type": "markdown",
      "source": [
        "# Задача 1. Корректная оценка\n",
        "\n",
        "В этой задаче мы предлагаем Вам заполнить пропуски в коде, чтобы реализовать следующую схему обучения модели и проверки её качества. Заполните фрагменты приведённого ниже кода так, чтобы обучение отвечало следующим параметрам:\n",
        "\n",
        "* Размер тестовой выборки = 0.3 от всей выборки\n",
        "* Включите перемешивание\n",
        "* Установите значение random_state = 42"
      ],
      "metadata": {
        "id": "2pMTgqo5iCr5"
      }
    },
    {
      "cell_type": "code",
      "source": [
        "from sklearn.linear_model import LogisticRegression\n",
        "from sklearn.datasets import load_breast_cancer\n",
        "from sklearn.model_selection import train_test_split\n",
        "from sklearn.preprocessing import StandardScaler\n",
        "\n",
        "# Загрузка датасета\n",
        "X, y = load_breast_cancer(return_X_y=True)\n",
        "\n",
        "# Разбиение датасета на train и test\n",
        "X_train, x_test, y_train, y_test = train_test_split(X, y, test_size=0.3, random_state=42, shuffle=True)\n",
        "\n",
        "# Задание классификатора и его обучение\n",
        "clf = LogisticRegression()\n",
        "\n",
        "# Предобработка датасета при помощи StandardScaler\n",
        "sc = StandardScaler()\n",
        "X_train = sc.fit_transform(X_train)\n",
        "x_test = sc.transform(x_test)\n",
        "\n",
        "# Обучеение модели\n",
        "clf.fit(X_train, y_train)\n",
        "\n",
        "# Оценка качества получившегося решения\n",
        "clf.score(x_test, y_test)"
      ],
      "metadata": {
        "id": "kOAQqbmDll0O",
        "colab": {
          "base_uri": "https://localhost:8080/"
        },
        "outputId": "e2405d21-f5ed-4765-d513-61cbd5b4407c"
      },
      "execution_count": null,
      "outputs": [
        {
          "output_type": "execute_result",
          "data": {
            "text/plain": [
              "0.9824561403508771"
            ]
          },
          "metadata": {},
          "execution_count": 2
        }
      ]
    },
    {
      "cell_type": "markdown",
      "source": [
        "В качестве ответа на это задание впишите получившуюся оценку качества до второго знака после запятой включительно (то есть, если ответ 0.6572343, впишите 0.65)."
      ],
      "metadata": {
        "id": "hgkEKSCOeyAx"
      }
    },
    {
      "cell_type": "code",
      "source": [
        "0.98"
      ],
      "metadata": {
        "id": "QQlXwsaResPV",
        "colab": {
          "base_uri": "https://localhost:8080/"
        },
        "outputId": "14bd763a-628a-4cbb-91e2-463ff5687735"
      },
      "execution_count": null,
      "outputs": [
        {
          "output_type": "execute_result",
          "data": {
            "text/plain": [
              "0.98"
            ]
          },
          "metadata": {},
          "execution_count": 3
        }
      ]
    }
  ]
}