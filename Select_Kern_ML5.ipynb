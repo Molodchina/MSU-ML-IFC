{
  "nbformat": 4,
  "nbformat_minor": 0,
  "metadata": {
    "colab": {
      "provenance": []
    },
    "kernelspec": {
      "name": "python3",
      "display_name": "Python 3"
    },
    "language_info": {
      "name": "python"
    }
  },
  "cells": [
    {
      "cell_type": "markdown",
      "source": [
        "# Оптимальное ядро\n",
        "\n",
        "Ваша задача - подобрать оптимальное ядро для решения задачи классификации датасета `breast cancer` при помощи алгоритма `SVC`. Заполните шаблон кода, приведённый ниже, и выберите оптимальное ядро при фиксированных остальных гиперпараметрах.\n",
        "\n",
        "Значения других гиперпараметров:\n",
        "\n",
        "* C = 1.0\n",
        "* degree (для полиномиального ядра) = 2\n",
        "* gamma = 'auto'\n",
        "* random_state = 42\n",
        "\n",
        "Ядра, которые слеедует попробовать: линейное, полиномиальное, радиальное, сигмоидальное.\n",
        "\n",
        "В качестве ответа укажите строковое название наилучшего ядра без кавычек и других дополнительных символов в нижнем регистре. Имеется в виду название, которое Вы передаёте в аргумент SVC (то есть, например, не `полиномиальное`, а `poly`)\n",
        "\n",
        "Для проверки качества решения задачи используйте `accuracy` с применением разбиения выборки на train и test с параметром `test_size=0.2` и `random_state=42`.\n",
        "\n",
        "Не забудьте об использовании `StandardScaler`"
      ],
      "metadata": {
        "id": "tttQs1_6kJ5c"
      }
    },
    {
      "cell_type": "code",
      "source": [
        "import numpy as np\n",
        "from sklearn import datasets\n",
        "from sklearn.svm import SVC\n",
        "from sklearn.preprocessing import StandardScaler\n",
        "from sklearn.model_selection import train_test_split\n",
        "from sklearn.metrics import accuracy_score\n",
        "\n",
        "\n",
        "data = datasets.load_breast_cancer()\n",
        "X, y = data.data, data.target\n",
        "\n",
        "X_train, X_test, y_train, y_test = train_test_split(X, y, test_size=0.2, random_state=42)\n",
        "\n",
        "\"\"\"\n",
        "Обучите и примените StandardScaler\n",
        "\"\"\"\n",
        "scaler = StandardScaler()\n",
        "X_train_scaled = scaler.fit_transform(X_train, y_train)\n",
        "X_test_scaled = scaler.fit_transform(X_test, y_test)\n",
        "\n",
        "def compare_svm_kernels(X_train, X_test, y_train, y_test):\n",
        "    \"\"\"\n",
        "      Напишите функцию, определяющую наилучшее ядро для решения данной задачи\n",
        "    \"\"\"\n",
        "    params = {\n",
        "        'C': 1.0,\n",
        "        'degree': 2,\n",
        "        'gamma': 'auto',\n",
        "        'random_state': 42\n",
        "    }\n",
        "    kernels = ['linear', 'poly', 'sigmoid', 'rbf']\n",
        "    n_splits = 5\n",
        "\n",
        "    best_kernel = None\n",
        "    best_accuracy = 0\n",
        "    for kernel in kernels:\n",
        "        svm = SVC(kernel=kernel, **params)\n",
        "\n",
        "        svm.fit(X_train_scaled, y_train)\n",
        "        y_pred = svm.predict(X_test_scaled)\n",
        "\n",
        "        accuracy = accuracy_score(y_test, y_pred)\n",
        "        if accuracy > best_accuracy:\n",
        "            best_accuracy = accuracy\n",
        "            best_kernel = kernel\n",
        "\n",
        "    print(f\"Best Kernel: {best_kernel}, Best Mean Accuracy: {best_accuracy:.4f}\")\n",
        "\n",
        "compare_svm_kernels(X_train, X_test, y_train, y_test)"
      ],
      "metadata": {
        "id": "LwwrTz0BkL5r",
        "colab": {
          "base_uri": "https://localhost:8080/"
        },
        "outputId": "9a2dd92b-9cb1-41f3-a620-a734779c78d1"
      },
      "execution_count": null,
      "outputs": [
        {
          "output_type": "stream",
          "name": "stdout",
          "text": [
            "Best Kernel: rbf, Best Mean Accuracy: 0.9825\n"
          ]
        }
      ]
    }
  ]
}